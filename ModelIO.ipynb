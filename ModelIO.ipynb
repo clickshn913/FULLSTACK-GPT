{
 "cells": [
  {
   "cell_type": "markdown",
   "metadata": {},
   "source": [
    "### Few-shot Prompt Template"
   ]
  },
  {
   "cell_type": "markdown",
   "metadata": {},
   "source": [
    "##### PromptTemplate"
   ]
  },
  {
   "cell_type": "code",
   "execution_count": 1,
   "metadata": {},
   "outputs": [
    {
     "data": {
      "text/plain": [
       "'What is the capital of France?'"
      ]
     },
     "execution_count": 1,
     "metadata": {},
     "output_type": "execute_result"
    }
   ],
   "source": [
    "from langchain.chat_models import ChatOpenAI\n",
    "from langchain.prompts import PromptTemplate\n",
    "from langchain.prompts.few_shot import FewShotPromptTemplate\n",
    "from langchain.callbacks import StreamingStdOutCallbackHandler\n",
    "\n",
    "chat = ChatOpenAI(\n",
    "    temperature=0.1,\n",
    "    streaming=True,\n",
    "    callbacks=[\n",
    "        StreamingStdOutCallbackHandler(),\n",
    "    ],\n",
    ")\n",
    "\n",
    "# PromptTemplate : prompt template을 디스크에 저장하고 load할 수 있음\n",
    "t = PromptTemplate.from_template(\"What is the capital of {country}?\")\n",
    "t.format(country=\"France\")"
   ]
  },
  {
   "cell_type": "markdown",
   "metadata": {},
   "source": [
    "##### Few-shot Prompt Template"
   ]
  },
  {
   "cell_type": "code",
   "execution_count": 5,
   "metadata": {},
   "outputs": [
    {
     "name": "stdout",
     "output_type": "stream",
     "text": [
      "AI: \n",
      "I know this:\n",
      "Capital: Ankara\n",
      "Language: Turkish\n",
      "Food: Kebab and Baklava\n",
      "Currency: Turkish Lira"
     ]
    },
    {
     "data": {
      "text/plain": [
       "AIMessageChunk(content='AI: \\nI know this:\\nCapital: Ankara\\nLanguage: Turkish\\nFood: Kebab and Baklava\\nCurrency: Turkish Lira')"
      ]
     },
     "execution_count": 5,
     "metadata": {},
     "output_type": "execute_result"
    }
   ],
   "source": [
    "from langchain.chat_models import ChatOpenAI\n",
    "from langchain.prompts.few_shot import FewShotPromptTemplate\n",
    "from langchain.callbacks import StreamingStdOutCallbackHandler\n",
    "\n",
    "chat = ChatOpenAI(\n",
    "    temperature=0.1,\n",
    "    streaming=True,\n",
    "    callbacks=[\n",
    "        StreamingStdOutCallbackHandler(),\n",
    "    ],\n",
    ")\n",
    "\n",
    "examples = [\n",
    "    {\n",
    "        \"question\": \"What do you know about France?\",\n",
    "        \"answer\": \"\"\"\n",
    "        Here is what I know:\n",
    "        Capital: Paris\n",
    "        Language: French\n",
    "        Food: Wine and Cheese\n",
    "        Currency: Euro\n",
    "        \"\"\",\n",
    "    },\n",
    "    {\n",
    "        \"question\": \"What do you know about Italy?\",\n",
    "        \"answer\": \"\"\"\n",
    "        I know this:\n",
    "        Capital: Rome\n",
    "        Language: Italian\n",
    "        Food: Pizza and Pasta\n",
    "        Currency: Euro\n",
    "        \"\"\",\n",
    "    },\n",
    "    {\n",
    "        \"question\": \"What do you know about Greece?\",\n",
    "        \"answer\": \"\"\"\n",
    "        I know this:\n",
    "        Capital: Athens\n",
    "        Language: Greek\n",
    "        Food: Souvlaki and Feta Cheese\n",
    "        Currency: Euro\n",
    "        \"\"\",\n",
    "    },\n",
    "]\n",
    "\n",
    "example_prompt = PromptTemplate.from_template(\"Human: {question} AI: {answer}\")\n",
    "    \n",
    "prompt = FewShotPromptTemplate(\n",
    "    example_prompt=example_prompt,\n",
    "    examples=examples,\n",
    "    suffix=\"Human: What do you know about {country}?\",\n",
    "    input_variables=[\"country\"]\n",
    ")    \n",
    "\n",
    "#prompt.format(country=\"Germany\")\n",
    "chain = prompt | chat\n",
    "chain.invoke({\n",
    "    \"country\":\"Turkey\"\n",
    "})"
   ]
  },
  {
   "cell_type": "markdown",
   "metadata": {},
   "source": [
    "---"
   ]
  },
  {
   "cell_type": "markdown",
   "metadata": {},
   "source": [
    "### FewShotChatMessagePromptTemplate"
   ]
  },
  {
   "cell_type": "code",
   "execution_count": 6,
   "metadata": {},
   "outputs": [
    {
     "name": "stdout",
     "output_type": "stream",
     "text": [
      "\n",
      "        I know this:\n",
      "        Capital: Bangkok\n",
      "        Language: Thai\n",
      "        Food: Pad Thai and Tom Yum Soup\n",
      "        Currency: Thai Baht\n",
      "        "
     ]
    },
    {
     "data": {
      "text/plain": [
       "AIMessageChunk(content='\\n        I know this:\\n        Capital: Bangkok\\n        Language: Thai\\n        Food: Pad Thai and Tom Yum Soup\\n        Currency: Thai Baht\\n        ')"
      ]
     },
     "execution_count": 6,
     "metadata": {},
     "output_type": "execute_result"
    }
   ],
   "source": [
    "from langchain.chat_models import ChatOpenAI\n",
    "from langchain.prompts.few_shot import FewShotPromptTemplate, FewShotChatMessagePromptTemplate\n",
    "from langchain.callbacks import StreamingStdOutCallbackHandler\n",
    "from langchain.prompts import ChatMessagePromptTemplate, ChatPromptTemplate\n",
    "\n",
    "chat = ChatOpenAI(\n",
    "    temperature=0.1,\n",
    "    streaming=True,\n",
    "    callbacks=[\n",
    "        StreamingStdOutCallbackHandler(),\n",
    "    ],\n",
    ")\n",
    "\n",
    "\n",
    "examples = [\n",
    "    {\n",
    "        \"country\": \"France\",\n",
    "        \"answer\": \"\"\"\n",
    "        Here is what I know:\n",
    "        Capital: Paris\n",
    "        Language: French\n",
    "        Food: Wine and Cheese\n",
    "        Currency: Euro\n",
    "        \"\"\",\n",
    "    },\n",
    "    {\n",
    "        \"country\": \"Italy\",\n",
    "        \"answer\": \"\"\"\n",
    "        I know this:\n",
    "        Capital: Rome\n",
    "        Language: Italian\n",
    "        Food: Pizza and Pasta\n",
    "        Currency: Euro\n",
    "        \"\"\",\n",
    "    },\n",
    "    {\n",
    "        \"country\": \"Greece\",\n",
    "        \"answer\": \"\"\"\n",
    "        I know this:\n",
    "        Capital: Athens\n",
    "        Language: Greek\n",
    "        Food: Souvlaki and Feta Cheese\n",
    "        Currency: Euro\n",
    "        \"\"\",\n",
    "    },\n",
    "]\n",
    "\n",
    "\n",
    "example_prompt = ChatPromptTemplate.from_messages(\n",
    "    [\n",
    "        (\"human\", \"What do you know about {country}?\"),\n",
    "        (\"ai\", \"{answer}\"),\n",
    "    ]\n",
    ")\n",
    "\n",
    "example_prompt = FewShotChatMessagePromptTemplate(\n",
    "    example_prompt=example_prompt,\n",
    "    examples=examples,\n",
    ")\n",
    "\n",
    "final_prompt = ChatPromptTemplate.from_messages(\n",
    "    [\n",
    "        (\"system\", \"You are a geography expert, you give short answers.\"),\n",
    "        example_prompt,\n",
    "        (\"human\", \"What do you know about {country}?\"),\n",
    "    ]\n",
    ")\n",
    "\n",
    "chain = final_prompt | chat\n",
    "\n",
    "chain.invoke({\"country\": \"Thailand\"})"
   ]
  },
  {
   "cell_type": "markdown",
   "metadata": {},
   "source": [
    "---"
   ]
  },
  {
   "cell_type": "markdown",
   "metadata": {},
   "source": [
    "### LengthBasedExampleSelector"
   ]
  },
  {
   "cell_type": "markdown",
   "metadata": {},
   "source": [
    "##### LengthBasedExampleSelector"
   ]
  },
  {
   "cell_type": "code",
   "execution_count": 9,
   "metadata": {},
   "outputs": [
    {
     "data": {
      "text/plain": [
       "'Human: What do you know about France? AI: \\n        Here is what I know:\\n        Capital: Paris\\n        Language: French\\n        Food: Wine and Cheese\\n        Currency: Euro\\n        \\n\\nHuman: What do you know about Brazil?'"
      ]
     },
     "execution_count": 9,
     "metadata": {},
     "output_type": "execute_result"
    }
   ],
   "source": [
    "from langchain.chat_models import ChatOpenAI\n",
    "from langchain.prompts.few_shot import FewShotPromptTemplate\n",
    "from langchain.callbacks import StreamingStdOutCallbackHandler\n",
    "from langchain.prompts.prompt import PromptTemplate\n",
    "from langchain.prompts.example_selector import LengthBasedExampleSelector\n",
    "\n",
    "chat = ChatOpenAI(\n",
    "    temperature=0.1,\n",
    "    streaming=True,\n",
    "    callbacks=[\n",
    "        StreamingStdOutCallbackHandler(),\n",
    "    ],\n",
    ")\n",
    "\n",
    "examples = [\n",
    "    {\n",
    "        \"question\": \"What do you know about France?\",\n",
    "        \"answer\": \"\"\"\n",
    "        Here is what I know:\n",
    "        Capital: Paris\n",
    "        Language: French\n",
    "        Food: Wine and Cheese\n",
    "        Currency: Euro\n",
    "        \"\"\",\n",
    "    },\n",
    "    {\n",
    "        \"question\": \"What do you know about Italy?\",\n",
    "        \"answer\": \"\"\"\n",
    "        I know this:\n",
    "        Capital: Rome\n",
    "        Language: Italian\n",
    "        Food: Pizza and Pasta\n",
    "        Currency: Euro\n",
    "        \"\"\",\n",
    "    },\n",
    "    {\n",
    "        \"question\": \"What do you know about Greece?\",\n",
    "        \"answer\": \"\"\"\n",
    "        I know this:\n",
    "        Capital: Athens\n",
    "        Language: Greek\n",
    "        Food: Souvlaki and Feta Cheese\n",
    "        Currency: Euro\n",
    "        \"\"\",\n",
    "    },\n",
    "]\n",
    "\n",
    "example_prompt = PromptTemplate.from_template(\"Human: {question} AI: {answer}\")\n",
    "\n",
    "example_selector = LengthBasedExampleSelector(\n",
    "    examples=examples,\n",
    "    example_prompt=example_prompt,\n",
    "    max_length=80,\n",
    ")\n",
    "\n",
    "prompt = FewShotPromptTemplate(\n",
    "    example_prompt=example_prompt,\n",
    "    example_selector=example_selector,\n",
    "    suffix=\"Human: What do you know about {country}?\",\n",
    "    input_variables=[\"country\",]\n",
    ")\n",
    "\n",
    "prompt.format(country=\"Brazil\")"
   ]
  },
  {
   "cell_type": "markdown",
   "metadata": {},
   "source": [
    "##### BaseExampleSelector"
   ]
  },
  {
   "cell_type": "code",
   "execution_count": 10,
   "metadata": {},
   "outputs": [
    {
     "data": {
      "text/plain": [
       "'Human: What do you know about Italy? AI: \\n        I know this:\\n        Capital: Rome\\n        Language: Italian\\n        Food: Pizza and Pasta\\n        Currency: Euro\\n        \\n\\nHuman: What do you know about Brazil?'"
      ]
     },
     "execution_count": 10,
     "metadata": {},
     "output_type": "execute_result"
    }
   ],
   "source": [
    "from langchain.chat_models import ChatOpenAI\n",
    "from langchain.prompts.few_shot import FewShotPromptTemplate\n",
    "from langchain.callbacks import StreamingStdOutCallbackHandler\n",
    "from langchain.prompts.prompt import PromptTemplate\n",
    "from langchain.prompts.example_selector.base import BaseExampleSelector\n",
    "\n",
    "\n",
    "\n",
    "chat = ChatOpenAI(\n",
    "    temperature=0.1,\n",
    "    streaming=True,\n",
    "    callbacks=[\n",
    "        StreamingStdOutCallbackHandler(),\n",
    "    ],\n",
    ")\n",
    "\n",
    "examples = [\n",
    "    {\n",
    "        \"question\": \"What do you know about France?\",\n",
    "        \"answer\": \"\"\"\n",
    "        Here is what I know:\n",
    "        Capital: Paris\n",
    "        Language: French\n",
    "        Food: Wine and Cheese\n",
    "        Currency: Euro\n",
    "        \"\"\",\n",
    "    },\n",
    "    {\n",
    "        \"question\": \"What do you know about Italy?\",\n",
    "        \"answer\": \"\"\"\n",
    "        I know this:\n",
    "        Capital: Rome\n",
    "        Language: Italian\n",
    "        Food: Pizza and Pasta\n",
    "        Currency: Euro\n",
    "        \"\"\",\n",
    "    },\n",
    "    {\n",
    "        \"question\": \"What do you know about Greece?\",\n",
    "        \"answer\": \"\"\"\n",
    "        I know this:\n",
    "        Capital: Athens\n",
    "        Language: Greek\n",
    "        Food: Souvlaki and Feta Cheese\n",
    "        Currency: Euro\n",
    "        \"\"\",\n",
    "    },\n",
    "]\n",
    "\n",
    "\n",
    "class RandomExampleSelector(BaseExampleSelector):\n",
    "\n",
    "    def __init__(self, examples):\n",
    "        self.examples = examples\n",
    "\n",
    "    def add_example(self, example):\n",
    "        self.examples.append(example)\n",
    "\n",
    "    def select_examples(self, input_variables):\n",
    "        from random import choice\n",
    "        return [choice(self.examples)]\n",
    "        \n",
    "\n",
    "\n",
    "example_prompt = PromptTemplate.from_template(\"Human: {question} AI: {answer}\")\n",
    "\n",
    "example_selector = RandomExampleSelector(\n",
    "    examples=examples,\n",
    ")\n",
    "\n",
    "prompt = FewShotPromptTemplate(\n",
    "    example_prompt=example_prompt,\n",
    "    example_selector=example_selector,\n",
    "    suffix=\"Human: What do you know about {country}?\",\n",
    "    input_variables=[\"country\",]\n",
    ")\n",
    "\n",
    "prompt.format(country=\"Brazil\")"
   ]
  },
  {
   "cell_type": "markdown",
   "metadata": {},
   "source": [
    "---"
   ]
  },
  {
   "cell_type": "markdown",
   "metadata": {},
   "source": [
    "### Serialization and Composition"
   ]
  },
  {
   "cell_type": "markdown",
   "metadata": {},
   "source": [
    "##### json"
   ]
  },
  {
   "cell_type": "code",
   "execution_count": 11,
   "metadata": {},
   "outputs": [
    {
     "data": {
      "text/plain": [
       "'What is the capital of Germany'"
      ]
     },
     "execution_count": 11,
     "metadata": {},
     "output_type": "execute_result"
    }
   ],
   "source": [
    "from langchain.chat_models import ChatOpenAI\n",
    "from langchain.callbacks import StreamingStdOutCallbackHandler\n",
    "from langchain.prompts import load_prompt\n",
    "\n",
    "prompt = load_prompt(\"./prompt.json\")\n",
    "\n",
    "chat = ChatOpenAI(\n",
    "    temperature=0.1,\n",
    "    streaming=True,\n",
    "    callbacks=[\n",
    "        StreamingStdOutCallbackHandler(),\n",
    "    ],\n",
    ")\n",
    "\n",
    "prompt.format(country=\"Germany\")\n",
    "\n"
   ]
  },
  {
   "cell_type": "markdown",
   "metadata": {},
   "source": [
    "##### yaml"
   ]
  },
  {
   "cell_type": "code",
   "execution_count": 12,
   "metadata": {},
   "outputs": [
    {
     "data": {
      "text/plain": [
       "'What is the capital of Germany'"
      ]
     },
     "execution_count": 12,
     "metadata": {},
     "output_type": "execute_result"
    }
   ],
   "source": [
    "from langchain.chat_models import ChatOpenAI\n",
    "from langchain.callbacks import StreamingStdOutCallbackHandler\n",
    "from langchain.prompts import load_prompt\n",
    "\n",
    "prompt = load_prompt(\"./prompt.yaml\")\n",
    "\n",
    "chat = ChatOpenAI(\n",
    "    temperature=0.1,\n",
    "    streaming=True,\n",
    "    callbacks=[\n",
    "        StreamingStdOutCallbackHandler(),\n",
    "    ],\n",
    ")\n",
    "\n",
    "prompt.format(country=\"Germany\")"
   ]
  },
  {
   "cell_type": "markdown",
   "metadata": {},
   "source": [
    "##### PipelinePromptTemplate"
   ]
  },
  {
   "cell_type": "code",
   "execution_count": 13,
   "metadata": {},
   "outputs": [
    {
     "name": "stdout",
     "output_type": "stream",
     "text": [
      "Arrrrg! Me favorite food be a good ol' plate o' fish 'n' chips! The taste o' crispy battered fish and salty chips be enough to make me heart sing! Arg arg!"
     ]
    },
    {
     "data": {
      "text/plain": [
       "AIMessageChunk(content=\"Arrrrg! Me favorite food be a good ol' plate o' fish 'n' chips! The taste o' crispy battered fish and salty chips be enough to make me heart sing! Arg arg!\")"
      ]
     },
     "execution_count": 13,
     "metadata": {},
     "output_type": "execute_result"
    }
   ],
   "source": [
    "from langchain.chat_models import ChatOpenAI\n",
    "from langchain.callbacks import StreamingStdOutCallbackHandler\n",
    "from langchain.prompts import PromptTemplate\n",
    "from langchain.prompts.pipeline import PipelinePromptTemplate\n",
    "\n",
    "chat = ChatOpenAI(\n",
    "    temperature=0.1,\n",
    "    streaming=True,\n",
    "    callbacks=[\n",
    "        StreamingStdOutCallbackHandler(),\n",
    "    ],\n",
    ")\n",
    "\n",
    "intro = PromptTemplate.from_template(\n",
    "    \"\"\"\n",
    "    You are a role playing assistant.\n",
    "    And you are impersonating a {character}\n",
    "\"\"\"\n",
    ")\n",
    "\n",
    "example = PromptTemplate.from_template(\n",
    "    \"\"\"\n",
    "    This is an example of how you talk:\n",
    "\n",
    "    Human: {example_question}\n",
    "    You: {example_answer}\n",
    "\"\"\"\n",
    ")\n",
    "\n",
    "start = PromptTemplate.from_template(\n",
    "    \"\"\"\n",
    "    Start now!\n",
    "\n",
    "    Human: {question}\n",
    "    You:\n",
    "\"\"\"\n",
    ")\n",
    "\n",
    "final = PromptTemplate.from_template(\n",
    "    \"\"\"\n",
    "    {intro}\n",
    "                                     \n",
    "    {example}\n",
    "                              \n",
    "    {start}\n",
    "\"\"\"\n",
    ")\n",
    "\n",
    "prompts = [\n",
    "    (\"intro\", intro),\n",
    "    (\"example\", example),\n",
    "    (\"start\", start),\n",
    "]\n",
    "\n",
    "\n",
    "full_prompt = PipelinePromptTemplate(\n",
    "    final_prompt=final,\n",
    "    pipeline_prompts=prompts,\n",
    ")\n",
    "\n",
    "\n",
    "chain = full_prompt | chat\n",
    "\n",
    "chain.invoke(\n",
    "    {\n",
    "        \"character\": \"Pirate\",\n",
    "        \"example_question\": \"What is your location?\",\n",
    "        \"example_answer\": \"Arrrrg! That is a secret!! Arg arg!!\",\n",
    "        \"question\": \"What is your fav food?\",\n",
    "    }\n",
    ")"
   ]
  },
  {
   "cell_type": "markdown",
   "metadata": {},
   "source": [
    "---"
   ]
  },
  {
   "cell_type": "markdown",
   "metadata": {},
   "source": [
    "### Caching"
   ]
  },
  {
   "cell_type": "markdown",
   "metadata": {},
   "source": [
    "##### set_llm_cache"
   ]
  },
  {
   "cell_type": "code",
   "execution_count": 14,
   "metadata": {},
   "outputs": [
    {
     "data": {
      "text/plain": [
       "'To make Italian pasta, follow these steps:\\n\\n1. Boil water: Fill a large pot with water and bring it to a boil. Add salt to the water for seasoning.\\n\\n2. Choose the pasta: Select the type of pasta you want to cook. Popular Italian pasta varieties include spaghetti, penne, fettuccine, or linguine.\\n\\n3. Add pasta to boiling water: Carefully add the pasta to the boiling water. Stir gently to prevent sticking.\\n\\n4. Cook pasta: Follow the cooking time mentioned on the pasta package. Stir occasionally to ensure even cooking. Taste the pasta for doneness. It should be al dente, meaning it should have a slight bite to it.\\n\\n5. Prepare the sauce: While the pasta is cooking, you can prepare the sauce of your choice. Italian pasta sauces can vary from tomato-based sauces like marinara or arrabbiata to creamy sauces like Alfredo or carbonara. You can also make a simple olive oil and garlic sauce.\\n\\n6. Drain the pasta: Once the pasta is cooked, carefully drain it in a colander. Do not rinse the pasta, as the starch helps the sauce adhere better.\\n\\n7. Combine pasta and sauce: Return the drained pasta to the pot and add the prepared sauce. Toss the pasta gently to coat it evenly with the sauce.\\n\\n8. Serve: Transfer the pasta to serving plates or bowls. You can garnish it with grated Parmesan cheese, fresh herbs, or a drizzle of olive oil, depending on your preference.\\n\\n9. Enjoy: Serve the Italian pasta hot and enjoy it with your favorite accompaniments like garlic bread, salad, or a glass of wine.\\n\\nRemember, Italian pasta dishes offer a wide range of possibilities, so feel free to experiment with different sauces, ingredients, and toppings to create your own unique variations.'"
      ]
     },
     "execution_count": 14,
     "metadata": {},
     "output_type": "execute_result"
    }
   ],
   "source": [
    "from langchain.chat_models import ChatOpenAI\n",
    "from langchain.callbacks import StreamingStdOutCallbackHandler\n",
    "from langchain.globals import set_llm_cache\n",
    "from langchain.cache import InMemoryCache\n",
    "\n",
    "set_llm_cache(InMemoryCache())\n",
    "\n",
    "chat = ChatOpenAI(\n",
    "    temperature=0.1,\n",
    "    # streaming=True,\n",
    "    # callbacks=[\n",
    "    #     StreamingStdOutCallbackHandler(),\n",
    "    # ],\n",
    ")\n",
    "\n",
    "chat.predict(\"How do you make italiam pasta?\")"
   ]
  },
  {
   "cell_type": "code",
   "execution_count": 15,
   "metadata": {},
   "outputs": [
    {
     "data": {
      "text/plain": [
       "'To make Italian pasta, follow these steps:\\n\\n1. Boil water: Fill a large pot with water and bring it to a boil. Add salt to the water for seasoning.\\n\\n2. Choose the pasta: Select the type of pasta you want to cook. Popular Italian pasta varieties include spaghetti, penne, fettuccine, or linguine.\\n\\n3. Add pasta to boiling water: Carefully add the pasta to the boiling water. Stir gently to prevent sticking.\\n\\n4. Cook pasta: Follow the cooking time mentioned on the pasta package. Stir occasionally to ensure even cooking. Taste the pasta for doneness. It should be al dente, meaning it should have a slight bite to it.\\n\\n5. Prepare the sauce: While the pasta is cooking, you can prepare the sauce of your choice. Italian pasta sauces can vary from tomato-based sauces like marinara or arrabbiata to creamy sauces like Alfredo or carbonara. You can also make a simple olive oil and garlic sauce.\\n\\n6. Drain the pasta: Once the pasta is cooked, carefully drain it in a colander. Do not rinse the pasta, as the starch helps the sauce adhere better.\\n\\n7. Combine pasta and sauce: Return the drained pasta to the pot and add the prepared sauce. Toss the pasta gently to coat it evenly with the sauce.\\n\\n8. Serve: Transfer the pasta to serving plates or bowls. You can garnish it with grated Parmesan cheese, fresh herbs, or a drizzle of olive oil, depending on your preference.\\n\\n9. Enjoy: Serve the Italian pasta hot and enjoy it with your favorite accompaniments like garlic bread, salad, or a glass of wine.\\n\\nRemember, Italian pasta dishes offer a wide range of possibilities, so feel free to experiment with different sauces, ingredients, and toppings to create your own unique variations.'"
      ]
     },
     "execution_count": 15,
     "metadata": {},
     "output_type": "execute_result"
    }
   ],
   "source": [
    "chat.predict(\"How do you make italiam pasta?\")"
   ]
  },
  {
   "cell_type": "markdown",
   "metadata": {},
   "source": [
    "##### set_debug"
   ]
  },
  {
   "cell_type": "code",
   "execution_count": 16,
   "metadata": {},
   "outputs": [
    {
     "name": "stdout",
     "output_type": "stream",
     "text": [
      "\u001b[32;1m\u001b[1;3m[llm/start]\u001b[0m \u001b[1m[1:llm:ChatOpenAI] Entering LLM run with input:\n",
      "\u001b[0m{\n",
      "  \"prompts\": [\n",
      "    \"Human: How do you make italiam pasta?\"\n",
      "  ]\n",
      "}\n",
      "\u001b[36;1m\u001b[1;3m[llm/end]\u001b[0m \u001b[1m[1:llm:ChatOpenAI] [7.97s] Exiting LLM run with output:\n",
      "\u001b[0m{\n",
      "  \"generations\": [\n",
      "    [\n",
      "      {\n",
      "        \"text\": \"To make Italian pasta, follow these steps:\\n\\n1. Boil water: Fill a large pot with water and bring it to a boil. Add salt to the water for seasoning.\\n\\n2. Choose the pasta: Select the type of pasta you want to cook. Popular Italian pasta varieties include spaghetti, penne, fettuccine, or linguine.\\n\\n3. Add pasta to boiling water: Carefully add the pasta to the boiling water. Stir gently to prevent sticking.\\n\\n4. Cook pasta: Cook the pasta according to the package instructions or until it reaches your desired level of tenderness. Italian pasta is typically cooked al dente, which means it should still have a slight bite to it.\\n\\n5. Prepare the sauce: While the pasta is cooking, prepare your desired sauce. Italian pasta sauces can vary widely, such as tomato-based marinara, creamy Alfredo, or olive oil-based aglio e olio. You can also add vegetables, meat, or seafood to your sauce for added flavor.\\n\\n6. Drain the pasta: Once the pasta is cooked, carefully drain it in a colander or use a slotted spoon to remove it from the water.\\n\\n7. Combine pasta and sauce: In a separate pan, heat your prepared sauce. Add the drained pasta to the sauce and toss it gently to coat the pasta evenly.\\n\\n8. Serve: Transfer the pasta to serving plates or bowls. You can garnish it with grated Parmesan cheese, fresh herbs, or a drizzle of olive oil, if desired.\\n\\n9. Enjoy: Serve the Italian pasta immediately while it's still hot and enjoy your delicious homemade meal!\",\n",
      "        \"generation_info\": {\n",
      "          \"finish_reason\": \"stop\"\n",
      "        },\n",
      "        \"type\": \"ChatGeneration\",\n",
      "        \"message\": {\n",
      "          \"lc\": 1,\n",
      "          \"type\": \"constructor\",\n",
      "          \"id\": [\n",
      "            \"langchain\",\n",
      "            \"schema\",\n",
      "            \"messages\",\n",
      "            \"AIMessage\"\n",
      "          ],\n",
      "          \"kwargs\": {\n",
      "            \"content\": \"To make Italian pasta, follow these steps:\\n\\n1. Boil water: Fill a large pot with water and bring it to a boil. Add salt to the water for seasoning.\\n\\n2. Choose the pasta: Select the type of pasta you want to cook. Popular Italian pasta varieties include spaghetti, penne, fettuccine, or linguine.\\n\\n3. Add pasta to boiling water: Carefully add the pasta to the boiling water. Stir gently to prevent sticking.\\n\\n4. Cook pasta: Cook the pasta according to the package instructions or until it reaches your desired level of tenderness. Italian pasta is typically cooked al dente, which means it should still have a slight bite to it.\\n\\n5. Prepare the sauce: While the pasta is cooking, prepare your desired sauce. Italian pasta sauces can vary widely, such as tomato-based marinara, creamy Alfredo, or olive oil-based aglio e olio. You can also add vegetables, meat, or seafood to your sauce for added flavor.\\n\\n6. Drain the pasta: Once the pasta is cooked, carefully drain it in a colander or use a slotted spoon to remove it from the water.\\n\\n7. Combine pasta and sauce: In a separate pan, heat your prepared sauce. Add the drained pasta to the sauce and toss it gently to coat the pasta evenly.\\n\\n8. Serve: Transfer the pasta to serving plates or bowls. You can garnish it with grated Parmesan cheese, fresh herbs, or a drizzle of olive oil, if desired.\\n\\n9. Enjoy: Serve the Italian pasta immediately while it's still hot and enjoy your delicious homemade meal!\",\n",
      "            \"additional_kwargs\": {}\n",
      "          }\n",
      "        }\n",
      "      }\n",
      "    ]\n",
      "  ],\n",
      "  \"llm_output\": {\n",
      "    \"token_usage\": {\n",
      "      \"prompt_tokens\": 16,\n",
      "      \"completion_tokens\": 327,\n",
      "      \"total_tokens\": 343\n",
      "    },\n",
      "    \"model_name\": \"gpt-3.5-turbo\",\n",
      "    \"system_fingerprint\": null\n",
      "  },\n",
      "  \"run\": null\n",
      "}\n"
     ]
    },
    {
     "data": {
      "text/plain": [
       "\"To make Italian pasta, follow these steps:\\n\\n1. Boil water: Fill a large pot with water and bring it to a boil. Add salt to the water for seasoning.\\n\\n2. Choose the pasta: Select the type of pasta you want to cook. Popular Italian pasta varieties include spaghetti, penne, fettuccine, or linguine.\\n\\n3. Add pasta to boiling water: Carefully add the pasta to the boiling water. Stir gently to prevent sticking.\\n\\n4. Cook pasta: Cook the pasta according to the package instructions or until it reaches your desired level of tenderness. Italian pasta is typically cooked al dente, which means it should still have a slight bite to it.\\n\\n5. Prepare the sauce: While the pasta is cooking, prepare your desired sauce. Italian pasta sauces can vary widely, such as tomato-based marinara, creamy Alfredo, or olive oil-based aglio e olio. You can also add vegetables, meat, or seafood to your sauce for added flavor.\\n\\n6. Drain the pasta: Once the pasta is cooked, carefully drain it in a colander or use a slotted spoon to remove it from the water.\\n\\n7. Combine pasta and sauce: In a separate pan, heat your prepared sauce. Add the drained pasta to the sauce and toss it gently to coat the pasta evenly.\\n\\n8. Serve: Transfer the pasta to serving plates or bowls. You can garnish it with grated Parmesan cheese, fresh herbs, or a drizzle of olive oil, if desired.\\n\\n9. Enjoy: Serve the Italian pasta immediately while it's still hot and enjoy your delicious homemade meal!\""
      ]
     },
     "execution_count": 16,
     "metadata": {},
     "output_type": "execute_result"
    }
   ],
   "source": [
    "from langchain.chat_models import ChatOpenAI\n",
    "from langchain.callbacks import StreamingStdOutCallbackHandler\n",
    "from langchain.globals import set_llm_cache, set_debug\n",
    "from langchain.cache import InMemoryCache\n",
    "\n",
    "set_llm_cache(InMemoryCache())\n",
    "set_debug(True)\n",
    "\n",
    "chat = ChatOpenAI(\n",
    "    temperature=0.1,\n",
    "    # streaming=True,\n",
    "    # callbacks=[\n",
    "    #     StreamingStdOutCallbackHandler(),\n",
    "    # ],\n",
    ")\n",
    "\n",
    "chat.predict(\"How do you make italiam pasta?\")"
   ]
  },
  {
   "cell_type": "code",
   "execution_count": 17,
   "metadata": {},
   "outputs": [
    {
     "name": "stdout",
     "output_type": "stream",
     "text": [
      "\u001b[32;1m\u001b[1;3m[llm/start]\u001b[0m \u001b[1m[1:llm:ChatOpenAI] Entering LLM run with input:\n",
      "\u001b[0m{\n",
      "  \"prompts\": [\n",
      "    \"Human: How do you make italiam pasta?\"\n",
      "  ]\n",
      "}\n",
      "\u001b[36;1m\u001b[1;3m[llm/end]\u001b[0m \u001b[1m[1:llm:ChatOpenAI] [0ms] Exiting LLM run with output:\n",
      "\u001b[0m{\n",
      "  \"generations\": [\n",
      "    [\n",
      "      {\n",
      "        \"text\": \"To make Italian pasta, follow these steps:\\n\\n1. Boil water: Fill a large pot with water and bring it to a boil. Add salt to the water for seasoning.\\n\\n2. Choose the pasta: Select the type of pasta you want to cook. Popular Italian pasta varieties include spaghetti, penne, fettuccine, or linguine.\\n\\n3. Add pasta to boiling water: Carefully add the pasta to the boiling water. Stir gently to prevent sticking.\\n\\n4. Cook pasta: Cook the pasta according to the package instructions or until it reaches your desired level of tenderness. Italian pasta is typically cooked al dente, which means it should still have a slight bite to it.\\n\\n5. Prepare the sauce: While the pasta is cooking, prepare your desired sauce. Italian pasta sauces can vary widely, such as tomato-based marinara, creamy Alfredo, or olive oil-based aglio e olio. You can also add vegetables, meat, or seafood to your sauce for added flavor.\\n\\n6. Drain the pasta: Once the pasta is cooked, carefully drain it in a colander or use a slotted spoon to remove it from the water.\\n\\n7. Combine pasta and sauce: In a separate pan, heat your prepared sauce. Add the drained pasta to the sauce and toss it gently to coat the pasta evenly.\\n\\n8. Serve: Transfer the pasta to serving plates or bowls. You can garnish it with grated Parmesan cheese, fresh herbs, or a drizzle of olive oil, if desired.\\n\\n9. Enjoy: Serve the Italian pasta immediately while it's still hot and enjoy your delicious homemade meal!\",\n",
      "        \"generation_info\": {\n",
      "          \"finish_reason\": \"stop\"\n",
      "        },\n",
      "        \"type\": \"ChatGeneration\",\n",
      "        \"message\": {\n",
      "          \"lc\": 1,\n",
      "          \"type\": \"constructor\",\n",
      "          \"id\": [\n",
      "            \"langchain\",\n",
      "            \"schema\",\n",
      "            \"messages\",\n",
      "            \"AIMessage\"\n",
      "          ],\n",
      "          \"kwargs\": {\n",
      "            \"content\": \"To make Italian pasta, follow these steps:\\n\\n1. Boil water: Fill a large pot with water and bring it to a boil. Add salt to the water for seasoning.\\n\\n2. Choose the pasta: Select the type of pasta you want to cook. Popular Italian pasta varieties include spaghetti, penne, fettuccine, or linguine.\\n\\n3. Add pasta to boiling water: Carefully add the pasta to the boiling water. Stir gently to prevent sticking.\\n\\n4. Cook pasta: Cook the pasta according to the package instructions or until it reaches your desired level of tenderness. Italian pasta is typically cooked al dente, which means it should still have a slight bite to it.\\n\\n5. Prepare the sauce: While the pasta is cooking, prepare your desired sauce. Italian pasta sauces can vary widely, such as tomato-based marinara, creamy Alfredo, or olive oil-based aglio e olio. You can also add vegetables, meat, or seafood to your sauce for added flavor.\\n\\n6. Drain the pasta: Once the pasta is cooked, carefully drain it in a colander or use a slotted spoon to remove it from the water.\\n\\n7. Combine pasta and sauce: In a separate pan, heat your prepared sauce. Add the drained pasta to the sauce and toss it gently to coat the pasta evenly.\\n\\n8. Serve: Transfer the pasta to serving plates or bowls. You can garnish it with grated Parmesan cheese, fresh herbs, or a drizzle of olive oil, if desired.\\n\\n9. Enjoy: Serve the Italian pasta immediately while it's still hot and enjoy your delicious homemade meal!\",\n",
      "            \"additional_kwargs\": {}\n",
      "          }\n",
      "        }\n",
      "      }\n",
      "    ]\n",
      "  ],\n",
      "  \"llm_output\": null,\n",
      "  \"run\": null\n",
      "}\n"
     ]
    },
    {
     "data": {
      "text/plain": [
       "\"To make Italian pasta, follow these steps:\\n\\n1. Boil water: Fill a large pot with water and bring it to a boil. Add salt to the water for seasoning.\\n\\n2. Choose the pasta: Select the type of pasta you want to cook. Popular Italian pasta varieties include spaghetti, penne, fettuccine, or linguine.\\n\\n3. Add pasta to boiling water: Carefully add the pasta to the boiling water. Stir gently to prevent sticking.\\n\\n4. Cook pasta: Cook the pasta according to the package instructions or until it reaches your desired level of tenderness. Italian pasta is typically cooked al dente, which means it should still have a slight bite to it.\\n\\n5. Prepare the sauce: While the pasta is cooking, prepare your desired sauce. Italian pasta sauces can vary widely, such as tomato-based marinara, creamy Alfredo, or olive oil-based aglio e olio. You can also add vegetables, meat, or seafood to your sauce for added flavor.\\n\\n6. Drain the pasta: Once the pasta is cooked, carefully drain it in a colander or use a slotted spoon to remove it from the water.\\n\\n7. Combine pasta and sauce: In a separate pan, heat your prepared sauce. Add the drained pasta to the sauce and toss it gently to coat the pasta evenly.\\n\\n8. Serve: Transfer the pasta to serving plates or bowls. You can garnish it with grated Parmesan cheese, fresh herbs, or a drizzle of olive oil, if desired.\\n\\n9. Enjoy: Serve the Italian pasta immediately while it's still hot and enjoy your delicious homemade meal!\""
      ]
     },
     "execution_count": 17,
     "metadata": {},
     "output_type": "execute_result"
    }
   ],
   "source": [
    "chat.predict(\"How do you make italiam pasta?\")"
   ]
  },
  {
   "cell_type": "markdown",
   "metadata": {},
   "source": [
    "##### SQLiteCache"
   ]
  },
  {
   "cell_type": "code",
   "execution_count": 1,
   "metadata": {},
   "outputs": [
    {
     "data": {
      "text/plain": [
       "'To make Italian pasta, follow these steps:\\n\\n1. Boil water in a large pot. Add salt to the boiling water.\\n\\n2. Add the pasta to the boiling water. Different types of pasta have different cooking times, so check the package instructions for the recommended cooking time.\\n\\n3. Stir the pasta occasionally to prevent it from sticking together.\\n\\n4. While the pasta is cooking, prepare the sauce. There are various Italian pasta sauces you can make, such as marinara, carbonara, or Alfredo. Choose your preferred sauce and follow a recipe or use a pre-made sauce.\\n\\n5. Once the pasta is cooked to your desired level of tenderness (al dente is the traditional Italian preference, which means the pasta is still slightly firm), drain it in a colander.\\n\\n6. Transfer the drained pasta back to the pot and add the prepared sauce. Mix well to ensure the pasta is evenly coated with the sauce.\\n\\n7. Serve the Italian pasta hot. You can garnish it with grated Parmesan cheese, fresh herbs, or a drizzle of olive oil, depending on your preference.\\n\\nRemember, Italian pasta dishes offer a wide range of variations, so feel free to experiment with different sauces, ingredients, and toppings to create your own unique flavors.'"
      ]
     },
     "execution_count": 1,
     "metadata": {},
     "output_type": "execute_result"
    }
   ],
   "source": [
    "from langchain.chat_models import ChatOpenAI\n",
    "from langchain.callbacks import StreamingStdOutCallbackHandler\n",
    "from langchain.globals import set_llm_cache, set_debug\n",
    "from langchain.cache import InMemoryCache, SQLiteCache\n",
    "\n",
    "set_llm_cache(SQLiteCache(\"cache.db\"))\n",
    "\n",
    "\n",
    "chat = ChatOpenAI(\n",
    "    temperature=0.1,\n",
    "    # streaming=True,\n",
    "    # callbacks=[\n",
    "    #     StreamingStdOutCallbackHandler(),\n",
    "    # ],\n",
    ")\n",
    "\n",
    "chat.predict(\"How do you make italiam pasta?\")"
   ]
  },
  {
   "cell_type": "markdown",
   "metadata": {},
   "source": [
    "---"
   ]
  },
  {
   "cell_type": "markdown",
   "metadata": {},
   "source": [
    "### Serialization"
   ]
  },
  {
   "cell_type": "code",
   "execution_count": 2,
   "metadata": {},
   "outputs": [
    {
     "name": "stdout",
     "output_type": "stream",
     "text": [
      "Soju is a traditional Korean distilled alcoholic beverage. Here is a simple recipe to make soju at home:\n",
      "\n",
      "Ingredients:\n",
      "- 1.5 liters of water\n",
      "- 1 cup of rice\n",
      "- 1 cup of nuruk (Korean fermentation starter)\n",
      "- 1 cup of sugar\n",
      "\n",
      "Instructions:\n",
      "1. Rinse the rice thoroughly until the water runs clear.\n",
      "2. In a large pot, add the rinsed rice and water. Bring it to a boil and then reduce the heat to low. Simmer for about 30 minutes or until the rice is fully cooked and soft.\n",
      "3. Remove the pot from heat and let it cool down to room temperature.\n",
      "4. Once the rice has cooled, transfer it to a large container or jar.\n",
      "5. Add the nuruk and sugar to the container with rice. Mix well until everything is combined.\n",
      "6. Cover the container with a clean cloth or plastic wrap and let it ferment for about 7-10 days at room temperature. Stir the mixture once a day during this fermentation period.\n",
      "7. After the fermentation period, strain the mixture through a cheesecloth or fine mesh strainer to remove any solids.\n",
      "8. Transfer the strained liquid into bottles or jars, and seal them tightly.\n",
      "9. Let the soju age for at least a week in a cool and dark place before consuming.\n",
      "10. Serve the homemade soju chilled and enjoy responsibly.\n",
      "\n",
      "Note: This recipe is a simplified version of traditional soju-making, which typically involves multiple distillation processes. \n",
      "\n",
      "Here is a basic recipe for making bread:\n",
      "\n",
      "Ingredients:\n",
      "- 4 cups all-purpose flour\n",
      "- 2 teaspoons active dry yeast\n",
      "- 2 teaspoons salt\n",
      "- 2 tablespoons sugar\n",
      "- 2 tablespoons vegetable oil\n",
      "- 1 ½ cups warm water (around 110°F or 43°C)\n",
      "\n",
      "Instructions:\n",
      "1. In a large mixing bowl, combine the warm water and sugar. Stir until the sugar dissolves.\n",
      "2. Sprinkle the yeast over the water and let it sit for about 5 minutes until it becomes foamy.\n",
      "3. Add the flour, salt, and vegetable oil to the bowl. Mix well until a dough forms.\n",
      "4. Transfer the dough onto a floured surface and knead it for about 10 minutes until it becomes smooth and elastic. You can also use a stand mixer with a dough hook attachment for this step.\n",
      "5. Place the dough in a greased bowl, cover it with a clean kitchen towel, and let it rise in a warm place for about 1-2 hours or until it doubles in size.\n",
      "6. Once the dough has risen, punch it down to release any air bubbles. Then, shape it into a loaf by rolling it tightly and tucking the ends underneath.\n",
      "7. Place the shaped dough into a greased loaf pan and cover it with the kitchen towel again. Let it rise for another 30-45 minutes until it rises slightly above the rim of the pan.\n",
      "8. Preheat the oven to 375°F (190°C).\n",
      "9. Bake the bread in the preheated oven for about 30-35 minutes or until it turns golden brown and sounds hollow when tapped on the bottom.\n",
      "10. Remove the bread from the oven and let it cool in the pan for a few minutes. Then, transfer it to a wire rack to cool completely before slicing.\n",
      "\n",
      "Note: This is a basic bread recipe, and you can customize it by adding ingredients like herbs, cheese, or seeds to the dough for different flavors. \n",
      "\n",
      "Tokens Used: 743\n",
      "\tPrompt Tokens: 29\n",
      "\tCompletion Tokens: 714\n",
      "Successful Requests: 2\n",
      "Total Cost (USD): $0.0014715000000000002\n"
     ]
    }
   ],
   "source": [
    "from langchain.chat_models import ChatOpenAI\n",
    "from langchain.callbacks import get_openai_callback\n",
    "\n",
    "chat = ChatOpenAI(\n",
    "    temperature=0.1,\n",
    ")\n",
    "\n",
    "with get_openai_callback() as usage:\n",
    "    a = chat.predict(\"What is the recipe for soju?\")\n",
    "    b = chat.predict(\"What is the recipe for bread?\")\n",
    "    print(a, \"\\n\")\n",
    "    print(b, \"\\n\")\n",
    "    print(usage)"
   ]
  },
  {
   "cell_type": "code",
   "execution_count": 3,
   "metadata": {},
   "outputs": [],
   "source": [
    "from langchain.chat_models import ChatOpenAI\n",
    "from langchain.llms.openai import OpenAI\n",
    "\n",
    "chat = OpenAI(\n",
    "    temperature=0.1,\n",
    "    max_tokens=450,\n",
    "    model=\"gpt-3.5-turbo-16k\"\n",
    ")\n",
    "\n",
    "chat.save(\"model.json\")"
   ]
  },
  {
   "cell_type": "code",
   "execution_count": 4,
   "metadata": {},
   "outputs": [
    {
     "name": "stderr",
     "output_type": "stream",
     "text": [
      "c:\\FULLSTACK-GPT\\env\\Lib\\site-packages\\langchain\\llms\\openai.py:216: UserWarning: You are trying to use a chat model. This way of initializing it is no longer supported. Instead, please use: `from langchain.chat_models import ChatOpenAI`\n",
      "  warnings.warn(\n",
      "c:\\FULLSTACK-GPT\\env\\Lib\\site-packages\\langchain\\llms\\openai.py:811: UserWarning: You are trying to use a chat model. This way of initializing it is no longer supported. Instead, please use: `from langchain.chat_models import ChatOpenAI`\n",
      "  warnings.warn(\n"
     ]
    },
    {
     "data": {
      "text/plain": [
       "OpenAIChat(client=<class 'openai.api_resources.chat_completion.ChatCompletion'>, model_name='gpt-3.5-turbo-16k', model_kwargs={'temperature': 0.1, 'max_tokens': 450, 'top_p': 1, 'frequency_penalty': 0, 'presence_penalty': 0, 'n': 1, 'request_timeout': None, 'logit_bias': {}})"
      ]
     },
     "execution_count": 4,
     "metadata": {},
     "output_type": "execute_result"
    }
   ],
   "source": [
    "from langchain.chat_models import ChatOpenAI\n",
    "from langchain.llms.openai import OpenAI\n",
    "from langchain.llms.loading import load_llm\n",
    "\n",
    "chat = load_llm(\"model.json\")\n",
    "\n",
    "chat"
   ]
  },
  {
   "cell_type": "code",
   "execution_count": null,
   "metadata": {},
   "outputs": [],
   "source": []
  }
 ],
 "metadata": {
  "kernelspec": {
   "display_name": "env",
   "language": "python",
   "name": "python3"
  },
  "language_info": {
   "codemirror_mode": {
    "name": "ipython",
    "version": 3
   },
   "file_extension": ".py",
   "mimetype": "text/x-python",
   "name": "python",
   "nbconvert_exporter": "python",
   "pygments_lexer": "ipython3",
   "version": "3.11.1"
  }
 },
 "nbformat": 4,
 "nbformat_minor": 2
}

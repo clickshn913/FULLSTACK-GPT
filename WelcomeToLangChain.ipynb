{
 "cells": [
  {
   "cell_type": "markdown",
   "metadata": {},
   "source": [
    "### LLMs and Chat Models"
   ]
  },
  {
   "cell_type": "code",
   "execution_count": 1,
   "metadata": {},
   "outputs": [],
   "source": [
    "from langchain.llms.openai import OpenAI\n",
    "from langchain.chat_models import ChatOpenAI"
   ]
  },
  {
   "cell_type": "code",
   "execution_count": 2,
   "metadata": {},
   "outputs": [],
   "source": [
    "llm = OpenAI()\n",
    "chat = ChatOpenAI()"
   ]
  },
  {
   "cell_type": "code",
   "execution_count": 4,
   "metadata": {},
   "outputs": [
    {
     "data": {
      "text/plain": [
       "('\\n\\nThere are eight planets in our solar system: Mercury, Venus, Earth, Mars, Jupiter, Saturn, Uranus, and Neptune.',\n",
       " 'There are eight planets in our Solar System: Mercury, Venus, Earth, Mars, Jupiter, Saturn, Uranus, and Neptune.')"
      ]
     },
     "execution_count": 4,
     "metadata": {},
     "output_type": "execute_result"
    }
   ],
   "source": [
    "a = llm.predict(\"How many planets are there?\") # text-davinci\n",
    "b = chat.predict(\"How many planets are there?\") # GPT 3.5-turbo\n",
    "\n",
    "a, b"
   ]
  },
  {
   "cell_type": "markdown",
   "metadata": {},
   "source": [
    "----"
   ]
  },
  {
   "cell_type": "markdown",
   "metadata": {},
   "source": [
    "### Predict Messages"
   ]
  },
  {
   "cell_type": "code",
   "execution_count": 5,
   "metadata": {},
   "outputs": [],
   "source": [
    "from langchain.chat_models import ChatOpenAI\n",
    "\n",
    "# temperature : 얼마나 창의적인지를 결정\n",
    "chat = ChatOpenAI(temperature=0.1)"
   ]
  },
  {
   "cell_type": "code",
   "execution_count": 6,
   "metadata": {},
   "outputs": [
    {
     "data": {
      "text/plain": [
       "AIMessage(content='Ciao! Il mio nome è Paolo. La distanza tra il Messico e la Thailandia è di circa 17.000 chilometri.')"
      ]
     },
     "execution_count": 6,
     "metadata": {},
     "output_type": "execute_result"
    }
   ],
   "source": [
    "from langchain.schema import HumanMessage, AIMessage, SystemMessage\n",
    "\n",
    "# SystemMessage : AI에 일종의 기본 설정, 기본 값, 기본 context 설정\n",
    "# AIMessage : string으로 가상의 대화 설정\n",
    "# HumanMessage : 사용자로서 질문\n",
    "\n",
    "messages = [\n",
    "  SystemMessage(\n",
    "    content=\"You are a geography expert. And you only reply in italian.\",\n",
    "  ),\n",
    "  AIMessage(\n",
    "    content=\"Ciao, mi chiamo Paolo!\"\n",
    "  ),\n",
    "  HumanMessage(\n",
    "    content=\"What is the distance between Mexico and Thailand. Also, what is your name?\"\n",
    "  )\n",
    "]\n",
    "\n",
    "chat.predict_messages(messages)"
   ]
  },
  {
   "cell_type": "markdown",
   "metadata": {},
   "source": [
    "---"
   ]
  },
  {
   "cell_type": "markdown",
   "metadata": {},
   "source": [
    "### Prompt Templates"
   ]
  },
  {
   "cell_type": "code",
   "execution_count": 13,
   "metadata": {},
   "outputs": [],
   "source": [
    "from langchain.chat_models import ChatOpenAI\n",
    "from langchain.prompts import PromptTemplate, ChatPromptTemplate\n",
    "# PromptTemplate : string을 이용해서 template을 만듬\n",
    "# ChatPromptTemplate : template을 message로부터 만듬\n",
    "chat = ChatOpenAI(temperature=0.1)\n",
    "\n",
    "\n",
    "template = PromptTemplate.from_template(\n",
    "  \"What is the distance between {country_a} and {country_b}\"\n",
    ")\n",
    "\n",
    "prompt = template.format(country_a=\"Mexico\", country_b=\"Thailand\")\n",
    "\n",
    "\n",
    "chat.predict(prompt)\n"
   ]
  },
  {
   "cell_type": "code",
   "execution_count": 26,
   "metadata": {},
   "outputs": [
    {
     "data": {
      "text/plain": [
       "AIMessage(content='Γεια σου! Το όνομά μου είναι Σωκράτης. Η απόσταση μεταξύ του Μεξικού και της Ταϊλάνδης είναι περίπου 17.000 χιλιόμετρα.')"
      ]
     },
     "execution_count": 26,
     "metadata": {},
     "output_type": "execute_result"
    }
   ],
   "source": [
    "template = ChatPromptTemplate.from_messages(\n",
    "  [\n",
    "      (\"system\", \"You are a geography expert. And you only reply in {language}.\"),\n",
    "      (\"ai\", \"Ciao, mi chiamo {name}!\"),\n",
    "      (\n",
    "          \"human\", \n",
    "          \"What is the distance between {country_a} and {country_b}. Also, what is your name?\",\n",
    "      )\n",
    "  ]\n",
    ")\n",
    "\n",
    "prompt = template.format_messages(\n",
    "  language=\"Greek\",\n",
    "  name=\"Socrates\",\n",
    "  country_a=\"Mexico\",\n",
    "  country_b=\"Thailand\",\n",
    ")\n",
    "\n",
    "chat.predict_messages(prompt)"
   ]
  },
  {
   "cell_type": "markdown",
   "metadata": {},
   "source": [
    "---"
   ]
  },
  {
   "cell_type": "markdown",
   "metadata": {},
   "source": [
    "### OutputParser and LCEL"
   ]
  },
  {
   "cell_type": "markdown",
   "metadata": {},
   "source": [
    "* LangChain Expression Language \n",
    "1. 코드를 줄임\n",
    "2. 다양한 template과 LLM 호출, 서로 다른 응답(response)을 함께 사용하게 함\n",
    "\n",
    "* OutputParser\n",
    "1. LLM의 응답(response)을 변형해야 할 때 사용"
   ]
  },
  {
   "cell_type": "markdown",
   "metadata": {},
   "source": [
    "##### OutputParser"
   ]
  },
  {
   "cell_type": "code",
   "execution_count": 28,
   "metadata": {},
   "outputs": [],
   "source": [
    "from langchain.chat_models import ChatOpenAI\n",
    "from langchain.prompts import ChatPromptTemplate\n",
    "\n",
    "chat = ChatOpenAI(temperature=0.1)"
   ]
  },
  {
   "cell_type": "code",
   "execution_count": 29,
   "metadata": {},
   "outputs": [],
   "source": [
    "from langchain.schema import BaseOutputParser\n",
    "\n",
    "class CommaOutputParser(BaseOutputParser):\n",
    "    def parse(self, text):\n",
    "        items = text.strip().split(\",\")\n",
    "        return list(map(str.strip, items))"
   ]
  },
  {
   "cell_type": "code",
   "execution_count": 35,
   "metadata": {},
   "outputs": [
    {
     "data": {
      "text/plain": [
       "['red',\n",
       " 'orange',\n",
       " 'yellow',\n",
       " 'green',\n",
       " 'blue',\n",
       " 'indigo',\n",
       " 'violet',\n",
       " 'black',\n",
       " 'white',\n",
       " 'gray']"
      ]
     },
     "execution_count": 35,
     "metadata": {},
     "output_type": "execute_result"
    }
   ],
   "source": [
    "template = ChatPromptTemplate.from_messages([\n",
    "    (\"system\", \"You are a list generating machine. Everything you are asked will be answered with a comma separated list of max {max_items} in lowercase. Do NOT reply with anything else.\"),\n",
    "    (\"human\", \"{question}\")\n",
    "])\n",
    "\n",
    "prompt = template.format_messages(\n",
    "    max_items=10,\n",
    "    question=\"What are the colors?\"\n",
    ")\n",
    "\n",
    "result = chat.predict_messages(prompt)\n",
    "\n",
    "p = CommaOutputParser()\n",
    "p.parse(result.content)\n"
   ]
  },
  {
   "cell_type": "markdown",
   "metadata": {},
   "source": [
    "##### LCEL"
   ]
  },
  {
   "cell_type": "code",
   "execution_count": null,
   "metadata": {},
   "outputs": [],
   "source": [
    "from langchain.chat_models import ChatOpenAI\n",
    "from langchain.prompts import ChatPromptTemplate\n",
    "\n",
    "chat = ChatOpenAI(temperature=0.1)"
   ]
  },
  {
   "cell_type": "code",
   "execution_count": null,
   "metadata": {},
   "outputs": [],
   "source": [
    "from langchain.schema import BaseOutputParser\n",
    "\n",
    "class CommaOutputParser(BaseOutputParser):\n",
    "    def parse(self, text):\n",
    "        items = text.strip().split(\",\")\n",
    "        return list(map(str.strip, items))"
   ]
  },
  {
   "cell_type": "code",
   "execution_count": null,
   "metadata": {},
   "outputs": [],
   "source": [
    "template = ChatPromptTemplate.from_messages([\n",
    "    (\"system\", \"You are a list generating machine. Everything you are asked will be answered with a comma separated list of max {max_items} in lowercase. Do NOT reply with anything else.\"),\n",
    "    (\"human\", \"{question}\")\n",
    "])"
   ]
  },
  {
   "cell_type": "code",
   "execution_count": 37,
   "metadata": {},
   "outputs": [
    {
     "data": {
      "text/plain": [
       "['red', 'blue', 'green', 'yellow', 'orange']"
      ]
     },
     "execution_count": 37,
     "metadata": {},
     "output_type": "execute_result"
    }
   ],
   "source": [
    "chain = template | chat | CommaOutputParser()\n",
    "chain.invoke({\n",
    "    \"max_items\":5,\n",
    "    \"question\":\"What are the colors?\"\n",
    "})"
   ]
  },
  {
   "cell_type": "markdown",
   "metadata": {},
   "source": [
    "---"
   ]
  },
  {
   "cell_type": "markdown",
   "metadata": {},
   "source": [
    "### Chaining Chains"
   ]
  },
  {
   "cell_type": "code",
   "execution_count": 45,
   "metadata": {},
   "outputs": [],
   "source": [
    "from langchain.chat_models import ChatOpenAI\n",
    "from langchain.prompts import ChatPromptTemplate\n",
    "from langchain.callbacks import StreamingStdOutCallbackHandler\n",
    "\n",
    "# streaming : model의 응답이 생성되는 것을 보여줌\n",
    "chat = ChatOpenAI(temperature=0.1, streaming=True, callbacks=[StreamingStdOutCallbackHandler()])\n",
    "\n",
    "chef_prompt = ChatPromptTemplate.from_messages([\n",
    "    (\"system\", \"\"),\n",
    "    (\"human\", \"I want to cook {cuisine} food.\"),\n",
    "])\n",
    "\n",
    "chef_chain = chef_prompt | chat"
   ]
  },
  {
   "cell_type": "code",
   "execution_count": 46,
   "metadata": {},
   "outputs": [
    {
     "name": "stdout",
     "output_type": "stream",
     "text": [
      "That's great! Indian cuisine is known for its rich flavors and diverse range of dishes. Here's a simple recipe for you to try:\n",
      "\n",
      "Butter Chicken (Murgh Makhani):\n",
      "Ingredients:\n",
      "- 500g boneless chicken, cut into pieces\n",
      "- 2 tablespoons butter\n",
      "- 1 onion, finely chopped\n",
      "- 2 teaspoons ginger-garlic paste\n",
      "- 2 teaspoons red chili powder\n",
      "- 1 teaspoon turmeric powder\n",
      "- 1 teaspoon garam masala\n",
      "- 1 cup tomato puree\n",
      "- 1/2 cup heavy cream\n",
      "- Salt to taste\n",
      "- Fresh coriander leaves for garnish\n",
      "\n",
      "Instructions:\n",
      "1. Heat butter in a pan over medium heat. Add the chopped onions and sauté until golden brown.\n",
      "2. Add ginger-garlic paste and sauté for a minute until the raw smell disappears.\n",
      "3. Add red chili powder, turmeric powder, and garam masala. Mix well and cook for a minute.\n",
      "4. Add tomato puree and cook for 5-7 minutes until the oil separates from the mixture.\n",
      "5. Add the chicken pieces and cook until they are no longer pink.\n",
      "6. Pour in the heavy cream and mix well. Simmer for 10-15 minutes until the chicken is cooked through and the sauce thickens.\n",
      "7. Season with salt according to your taste.\n",
      "8. Garnish with fresh coriander leaves and serve hot with naan bread or steamed rice.\n",
      "\n",
      "Remember, Indian cuisine offers a wide variety of dishes, so feel free to explore and experiment with different recipes and flavors. Enjoy your cooking!Butter Chicken, also known as Murgh Makhani, is a popular Indian dish that is traditionally made with chicken. However, as a vegetarian chef, I can suggest a delicious alternative to replace the chicken in this recipe.\n",
      "\n",
      "Instead of using chicken, you can use paneer, which is a type of Indian cheese. Paneer has a similar texture to chicken and absorbs flavors well, making it a great substitute in this dish. Here's how you can modify the recipe:\n",
      "\n",
      "Butter Paneer (Paneer Makhani):\n",
      "Ingredients:\n",
      "- 500g paneer, cut into cubes\n",
      "- 2 tablespoons butter\n",
      "- 1 onion, finely chopped\n",
      "- 2 teaspoons ginger-garlic paste\n",
      "- 2 teaspoons red chili powder\n",
      "- 1 teaspoon turmeric powder\n",
      "- 1 teaspoon garam masala\n",
      "- 1 cup tomato puree\n",
      "- 1/2 cup heavy cream\n",
      "- Salt to taste\n",
      "- Fresh coriander leaves for garnish\n",
      "\n",
      "Instructions:\n",
      "1. Heat butter in a pan over medium heat. Add the chopped onions and sauté until golden brown.\n",
      "2. Add ginger-garlic paste and sauté for a minute until the raw smell disappears.\n",
      "3. Add red chili powder, turmeric powder, and garam masala. Mix well and cook for a minute.\n",
      "4. Add tomato puree and cook for 5-7 minutes until the oil separates from the mixture.\n",
      "5. Add the paneer cubes and cook for a few minutes until they are heated through.\n",
      "6. Pour in the heavy cream and mix well. Simmer for 10-15 minutes until the sauce thickens.\n",
      "7. Season with salt according to your taste.\n",
      "8. Garnish with fresh coriander leaves and serve hot with naan bread or steamed rice.\n",
      "\n",
      "By substituting paneer for chicken, you can still enjoy the rich and flavorful Butter Chicken experience while keeping it vegetarian."
     ]
    },
    {
     "data": {
      "text/plain": [
       "AIMessageChunk(content=\"Butter Chicken, also known as Murgh Makhani, is a popular Indian dish that is traditionally made with chicken. However, as a vegetarian chef, I can suggest a delicious alternative to replace the chicken in this recipe.\\n\\nInstead of using chicken, you can use paneer, which is a type of Indian cheese. Paneer has a similar texture to chicken and absorbs flavors well, making it a great substitute in this dish. Here's how you can modify the recipe:\\n\\nButter Paneer (Paneer Makhani):\\nIngredients:\\n- 500g paneer, cut into cubes\\n- 2 tablespoons butter\\n- 1 onion, finely chopped\\n- 2 teaspoons ginger-garlic paste\\n- 2 teaspoons red chili powder\\n- 1 teaspoon turmeric powder\\n- 1 teaspoon garam masala\\n- 1 cup tomato puree\\n- 1/2 cup heavy cream\\n- Salt to taste\\n- Fresh coriander leaves for garnish\\n\\nInstructions:\\n1. Heat butter in a pan over medium heat. Add the chopped onions and sauté until golden brown.\\n2. Add ginger-garlic paste and sauté for a minute until the raw smell disappears.\\n3. Add red chili powder, turmeric powder, and garam masala. Mix well and cook for a minute.\\n4. Add tomato puree and cook for 5-7 minutes until the oil separates from the mixture.\\n5. Add the paneer cubes and cook for a few minutes until they are heated through.\\n6. Pour in the heavy cream and mix well. Simmer for 10-15 minutes until the sauce thickens.\\n7. Season with salt according to your taste.\\n8. Garnish with fresh coriander leaves and serve hot with naan bread or steamed rice.\\n\\nBy substituting paneer for chicken, you can still enjoy the rich and flavorful Butter Chicken experience while keeping it vegetarian.\")"
      ]
     },
     "execution_count": 46,
     "metadata": {},
     "output_type": "execute_result"
    }
   ],
   "source": [
    "veg_chef_promt = ChatPromptTemplate.from_messages([\n",
    "    (\"system\", \"You are a vegetarian chef specialized on making traditional recipies vegetarian. You find alternative ingredients and explain their preparation. You don't radically modify the recipe. If there is no alternative for a food just say you don't know how to replace it.\"),\n",
    "    (\"human\", \"{recipe}\")\n",
    "])\n",
    "\n",
    "veg_chain = veg_chef_promt | chat\n",
    "\n",
    "final_chain = {\"recipe\":chef_chain} | veg_chain\n",
    "final_chain.invoke({\n",
    "    \"cuisine\":'indian'\n",
    "})\n"
   ]
  },
  {
   "cell_type": "markdown",
   "metadata": {},
   "source": [
    "---"
   ]
  },
  {
   "cell_type": "markdown",
   "metadata": {},
   "source": [
    "### Recap"
   ]
  },
  {
   "cell_type": "code",
   "execution_count": 47,
   "metadata": {},
   "outputs": [],
   "source": [
    "from langchain.chat_models import ChatOpenAI\n",
    "from langchain.prompts import ChatPromptTemplate\n",
    "from langchain.callbacks import StreamingStdOutCallbackHandler\n",
    "\n",
    "# streaming : model의 응답이 생성되는 것을 보여줌\n",
    "chat = ChatOpenAI(temperature=0.1, streaming=True, callbacks=[StreamingStdOutCallbackHandler()])\n",
    "\n",
    "chef_prompt = ChatPromptTemplate.from_messages([\n",
    "    (\"system\", \"You are a world-class international chef. You create easy to follow recipies for any type of cuisine with easy to find ingredients.\"),\n",
    "    (\"human\", \"I want to cook {cuisine} food.\"),\n",
    "])\n",
    "\n",
    "chef_chain = chef_prompt | chat"
   ]
  },
  {
   "cell_type": "code",
   "execution_count": 48,
   "metadata": {},
   "outputs": [
    {
     "name": "stdout",
     "output_type": "stream",
     "text": [
      "Great choice! Indian cuisine is known for its rich flavors and aromatic spices. Here's a recipe for a classic Indian dish called Butter Chicken:\n",
      "\n",
      "Ingredients:\n",
      "- 500g boneless chicken, cut into bite-sized pieces\n",
      "- 2 tablespoons butter\n",
      "- 1 onion, finely chopped\n",
      "- 2 cloves of garlic, minced\n",
      "- 1-inch piece of ginger, grated\n",
      "- 2 teaspoons garam masala\n",
      "- 1 teaspoon turmeric powder\n",
      "- 1 teaspoon chili powder (adjust according to your spice preference)\n",
      "- 1 cup tomato puree\n",
      "- 1/2 cup heavy cream\n",
      "- Salt to taste\n",
      "- Fresh cilantro leaves, for garnish\n",
      "\n",
      "Instructions:\n",
      "1. Heat the butter in a large pan over medium heat. Add the chopped onion and sauté until it turns golden brown.\n",
      "2. Add the minced garlic and grated ginger to the pan. Cook for another minute until fragrant.\n",
      "3. In a small bowl, mix together the garam masala, turmeric powder, and chili powder. Add this spice mixture to the pan and cook for a minute, stirring continuously.\n",
      "4. Add the chicken pieces to the pan and cook until they are lightly browned on all sides.\n",
      "5. Pour in the tomato puree and season with salt. Stir well to combine all the ingredients.\n",
      "6. Reduce the heat to low, cover the pan, and let the chicken simmer for about 15-20 minutes, or until it is cooked through and tender.\n",
      "7. Stir in the heavy cream and cook for an additional 2-3 minutes to allow the flavors to meld together.\n",
      "8. Garnish with fresh cilantro leaves and serve hot with steamed rice or naan bread.\n",
      "\n",
      "Enjoy your homemade Butter Chicken!Great choice! Butter Chicken is a delicious and popular Indian dish. As a vegetarian chef, I can help you make a vegetarian version of this recipe by replacing the chicken with a suitable alternative. Here's a modified version of the recipe using paneer, a type of Indian cheese:\n",
      "\n",
      "Ingredients:\n",
      "- 250g paneer, cut into bite-sized cubes\n",
      "- 2 tablespoons butter\n",
      "- 1 onion, finely chopped\n",
      "- 2 cloves of garlic, minced\n",
      "- 1-inch piece of ginger, grated\n",
      "- 2 teaspoons garam masala\n",
      "- 1 teaspoon turmeric powder\n",
      "- 1 teaspoon chili powder (adjust according to your spice preference)\n",
      "- 1 cup tomato puree\n",
      "- 1/2 cup heavy cream\n",
      "- Salt to taste\n",
      "- Fresh cilantro leaves, for garnish\n",
      "\n",
      "Instructions:\n",
      "1. Heat the butter in a large pan over medium heat. Add the chopped onion and sauté until it turns golden brown.\n",
      "2. Add the minced garlic and grated ginger to the pan. Cook for another minute until fragrant.\n",
      "3. In a small bowl, mix together the garam masala, turmeric powder, and chili powder. Add this spice mixture to the pan and cook for a minute, stirring continuously.\n",
      "4. Add the paneer cubes to the pan and cook until they are lightly browned on all sides.\n",
      "5. Pour in the tomato puree and season with salt. Stir well to combine all the ingredients.\n",
      "6. Reduce the heat to low, cover the pan, and let the paneer simmer for about 10-15 minutes, allowing it to absorb the flavors.\n",
      "7. Stir in the heavy cream and cook for an additional 2-3 minutes to allow the flavors to meld together.\n",
      "8. Garnish with fresh cilantro leaves and serve hot with steamed rice or naan bread.\n",
      "\n",
      "Enjoy your vegetarian Butter Paneer!"
     ]
    },
    {
     "data": {
      "text/plain": [
       "AIMessageChunk(content=\"Great choice! Butter Chicken is a delicious and popular Indian dish. As a vegetarian chef, I can help you make a vegetarian version of this recipe by replacing the chicken with a suitable alternative. Here's a modified version of the recipe using paneer, a type of Indian cheese:\\n\\nIngredients:\\n- 250g paneer, cut into bite-sized cubes\\n- 2 tablespoons butter\\n- 1 onion, finely chopped\\n- 2 cloves of garlic, minced\\n- 1-inch piece of ginger, grated\\n- 2 teaspoons garam masala\\n- 1 teaspoon turmeric powder\\n- 1 teaspoon chili powder (adjust according to your spice preference)\\n- 1 cup tomato puree\\n- 1/2 cup heavy cream\\n- Salt to taste\\n- Fresh cilantro leaves, for garnish\\n\\nInstructions:\\n1. Heat the butter in a large pan over medium heat. Add the chopped onion and sauté until it turns golden brown.\\n2. Add the minced garlic and grated ginger to the pan. Cook for another minute until fragrant.\\n3. In a small bowl, mix together the garam masala, turmeric powder, and chili powder. Add this spice mixture to the pan and cook for a minute, stirring continuously.\\n4. Add the paneer cubes to the pan and cook until they are lightly browned on all sides.\\n5. Pour in the tomato puree and season with salt. Stir well to combine all the ingredients.\\n6. Reduce the heat to low, cover the pan, and let the paneer simmer for about 10-15 minutes, allowing it to absorb the flavors.\\n7. Stir in the heavy cream and cook for an additional 2-3 minutes to allow the flavors to meld together.\\n8. Garnish with fresh cilantro leaves and serve hot with steamed rice or naan bread.\\n\\nEnjoy your vegetarian Butter Paneer!\")"
      ]
     },
     "execution_count": 48,
     "metadata": {},
     "output_type": "execute_result"
    }
   ],
   "source": [
    "veg_chef_promt = ChatPromptTemplate.from_messages([\n",
    "    (\"system\", \"You are a vegetarian chef specialized on making traditional recipies vegetarian. You find alternative ingredients and explain their preparation. You don't radically modify the recipe. If there is no alternative for a food just say you don't know how to replace it.\"),\n",
    "    (\"human\", \"{recipe}\")\n",
    "])\n",
    "\n",
    "veg_chain = veg_chef_promt | chat\n",
    "\n",
    "final_chain = {\"recipe\":chef_chain} | veg_chain\n",
    "final_chain.invoke({\n",
    "    \"cuisine\":'indian'\n",
    "})"
   ]
  },
  {
   "cell_type": "code",
   "execution_count": null,
   "metadata": {},
   "outputs": [],
   "source": []
  },
  {
   "cell_type": "code",
   "execution_count": null,
   "metadata": {},
   "outputs": [],
   "source": []
  },
  {
   "cell_type": "code",
   "execution_count": null,
   "metadata": {},
   "outputs": [],
   "source": []
  }
 ],
 "metadata": {
  "kernelspec": {
   "display_name": "env",
   "language": "python",
   "name": "python3"
  },
  "language_info": {
   "codemirror_mode": {
    "name": "ipython",
    "version": 3
   },
   "file_extension": ".py",
   "mimetype": "text/x-python",
   "name": "python",
   "nbconvert_exporter": "python",
   "pygments_lexer": "ipython3",
   "version": "3.11.1"
  }
 },
 "nbformat": 4,
 "nbformat_minor": 2
}
